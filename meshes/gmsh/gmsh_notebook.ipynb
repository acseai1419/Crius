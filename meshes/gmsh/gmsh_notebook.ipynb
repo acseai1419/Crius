{
 "cells": [
  {
   "cell_type": "markdown",
   "metadata": {},
   "source": [
    "### This Notebook is a guide on how to run the semi automatic solution. For the 3-D case:\n",
    "\n",
    "1. Navigate to pre-processing/3D and execute the script that generates the desired geometry. (here we will execute  create_spherical_incl and with a desired porosity) \n",
    "\n",
    "```python\n",
    "#0.3 is the porosity and 0.2, 0.3 are the min and max radius. It is very important to sort the radius of the spheres to be able to archieve higher porosities up to 47%\n",
    "rad = sorted(get_parameters(0.3,0.2,0.3),reverse=True) \n",
    "#these values were chosen in sake of the tutorial it is recommended to use smaller min_r and max_r e.g. 0.09 - 0.12 to archieve high porosities\n",
    "spheres = create_dataset(len(rad),rad,1.2)\n",
    "set_physical_regions(rad)\n",
    "set_resolution(0.07,0.07)\n",
    "```\n",
    "\n",
    "2. This will create a text file in meshes/txt_file called spherical_gmsh\n",
    "```C++\n",
    "Sphere(2) = {x+0.3549102609084382, y+0.4378583379896717, z+0.6774137001468787, 0.2729716849727446}; \n",
    "Sphere(3) = {x+0.6873389809730316, y+0.7235779338235815, z+0.5119612836568483, 0.2549945139986808}; \n",
    "Sphere(4) = {x+0.6780590039110005, y+0.29971830545163425, z+0.3222318047364401, 0.25189830672522795}; \n",
    "Sphere(5) = {x+0.2144266917278429, y+0.5745433210648649, z+0.23748806384333598, 0.20669214036049305}; \n",
    "Sphere(6) = {x+0.7646316740823721, y+0.2227572565595214, z+0.7375795013893071, 0.20628966656176181}; \n",
    "v() = BooleanFragments { Volume{1}; Delete; }{ Volume{2 :6}; Delete; }; \n",
    "Physical Volume(1) = {7}; \n",
    "Physical Volume(2) = {2, 3, 4, 5, 6}; \n",
    "Mesh.CharacteristicLengthMin = 0.07; \n",
    "Mesh.CharacteristicLengthMax = 0.07; \n",
    "```"
   ]
  },
  {
   "cell_type": "markdown",
   "metadata": {},
   "source": [
    "3. We Navigate to meshes/gmsh and open the empty_3D.geo and transfer the information from spherical gmsh. empty_3D.geo has already defined the cubic domain of length one and the periodicity constraints in the case where the inclusions cross the boundaries. It also defines the physical regions which represents our subdomains.\n",
    "\n",
    "```C++\n",
    "SetFactory(\"OpenCASCADE\");\n",
    "//Starting with a box of length = 1\n",
    "Box(1) = {0, 0, 0, 1, 1, 1};\n",
    "x = 0; y = 0; z = 0; \n",
    "//-----------------------------------------------------------------------------------------------------------------------\n",
    "//Copy in the section below the geometric information generated from the pre-processing module in meshes/txt_mesh/\n",
    "//The geometric information starts from the first line until\n",
    "//this line -> v() = BooleanFragments { Volume{1}; Delete; }{ Volume{2:n}; Delete; };\n",
    "//-----------------------------------------------------------------------------------------------------------------------\n",
    "Sphere(2) = {x+0.3549102609084382, y+0.4378583379896717, z+0.6774137001468787, 0.2729716849727446}; \n",
    "Sphere(3) = {x+0.6873389809730316, y+0.7235779338235815, z+0.5119612836568483, 0.2549945139986808}; \n",
    "Sphere(4) = {x+0.6780590039110005, y+0.29971830545163425, z+0.3222318047364401, 0.25189830672522795}; \n",
    "Sphere(5) = {x+0.2144266917278429, y+0.5745433210648649, z+0.23748806384333598, 0.20669214036049305}; \n",
    "Sphere(6) = {x+0.7646316740823721, y+0.2227572565595214, z+0.7375795013893071, 0.20628966656176181}; \n",
    "v() = BooleanFragments { Volume{1}; Delete; }{ Volume{2 :6}; Delete; };\n",
    "//-----------------------------------------------------------------------------------------------------------------------\n",
    "// STL mesh for bounding boxes:\n",
    "Geometry.OCCBoundsUseStl = 1;\n",
    "eps = 1e-3;\n",
    "//volumes in the bounding box of the original box\n",
    "vin() = Volume In BoundingBox {-eps,-eps,-eps, 1+eps,1+eps,1+eps};\n",
    "v() -= vin();\n",
    "//Deleting the volumes outside the volume of the origina box\n",
    "Recursive Delete{ Volume{v()}; }\n",
    "//--------------------------------------------------------------------------------------\n",
    "//For applying periodic boundaries\n",
    "//We get all surfaces on the left:\n",
    "Sxmin() = Surface In BoundingBox{-eps, -eps, -eps, +eps, 1+eps, 1+eps};\n",
    "For i In {0:#Sxmin()-1}\n",
    "  // We get the bounding box of the left surfaces\n",
    "  bb() = BoundingBox Surface { Sxmin(i) };\n",
    "  // We translate the bounding box to the right and look for surfaces inside i\n",
    "  Sxmax() = Surface In BoundingBox { bb(0)-eps+1, bb(1)-eps, bb(2)-eps,\n",
    "                                     bb(3)+eps+1, bb(4)+eps, bb(5)+eps };\n",
    "  // For all the matches, we compare the corresponding bounding boxes\n",
    "  For j In {0:#Sxmax()-1}\n",
    "    bb2() = BoundingBox Surface { Sxmax(j) };\n",
    "    bb2(0) -= 1;\n",
    "    bb2(3) -= 1;\n",
    "    // if they match, we apply the periodicity constraint\n",
    "    If(Fabs(bb2(0)-bb(0)) < eps && Fabs(bb2(1)-bb(1)) < eps &&\n",
    "       Fabs(bb2(2)-bb(2)) < eps && Fabs(bb2(3)-bb(3)) < eps &&\n",
    "       Fabs(bb2(4)-bb(4)) < eps && Fabs(bb2(5)-bb(5)) < eps)\n",
    "      Periodic Surface {Sxmax(j)} = {Sxmin(i)} Translate {1,0,0};\n",
    "    EndIf\n",
    "  EndFor\n",
    "EndFor\n",
    "\n",
    "//We get all surfaces on the outside:\n",
    "Symin() = Surface In BoundingBox{-eps, -eps, -eps, 1+eps, eps, 1+eps};\n",
    "For i In {0:#Symin()-1}\n",
    "  // We get the bounding box of each outter surface\n",
    "  bb() = BoundingBox Surface { Symin(i) };\n",
    "  // We translate the bounding box to the inside and look for surfaces inside i\n",
    "  Symax() = Surface In BoundingBox { bb(0)-eps, bb(1)-eps+1, bb(2)-eps,\n",
    "                                     bb(3)+eps, bb(4)+eps+1, bb(5)+eps };\n",
    "  // For all the matches, we compare the corresponding bounding boxes\n",
    "  For j In {0:#Symax()-1}\n",
    "    bb2() = BoundingBox Surface { Symax(j) };\n",
    "    bb2(1) -= 1;\n",
    "    bb2(4) -= 1;\n",
    "    // if they match, we apply the periodicity constraint\n",
    "    If(Fabs(bb2(0)-bb(0)) < eps && Fabs(bb2(1)-bb(1)) < eps &&\n",
    "       Fabs(bb2(2)-bb(2)) < eps && Fabs(bb2(3)-bb(3)) < eps &&\n",
    "       Fabs(bb2(4)-bb(4)) < eps && Fabs(bb2(5)-bb(5)) < eps)\n",
    "      Periodic Surface {Symax(j)} = {Symin(i)} Translate {0,1,0};\n",
    "    EndIf\n",
    "  EndFor\n",
    "EndFor\n",
    "\n",
    "// We get all surfaces on the bottom:\n",
    "Szmin() = Surface In BoundingBox{-eps, -eps, -eps, 1+eps, 1+eps, +eps};\n",
    "\n",
    "For i In {0:#Szmin()-1}\n",
    "  // We get the bounding box of each bottom surface\n",
    "  bb() = BoundingBox Surface { Szmin(i) };\n",
    "  // We translate the bounding box to the top and look for surfaces inside i\n",
    "  Szmax() = Surface In BoundingBox { bb(0)-eps, bb(1)-eps, bb(2)-eps+1,\n",
    "                                     bb(3)+eps, bb(4)+eps, bb(5)+eps+1 };\n",
    "  // For all the matches, we compare the corresponding bounding boxes\n",
    "  For j In {0:#Szmax()-1}\n",
    "    bb2() = BoundingBox Surface { Szmax(j) };\n",
    "    bb2(2) -= 1;\n",
    "    bb2(5) -= 1;\n",
    "    // ...and if they match, we apply the periodicity constraint\n",
    "    If(Fabs(bb2(0)-bb(0)) < eps && Fabs(bb2(1)-bb(1)) < eps &&\n",
    "       Fabs(bb2(2)-bb(2)) < eps && Fabs(bb2(3)-bb(3)) < eps &&\n",
    "       Fabs(bb2(4)-bb(4)) < eps && Fabs(bb2(5)-bb(5)) < eps)\n",
    "      Periodic Surface {Szmax(j)} = {Szmin(i)} Translate {0,0,1};\n",
    "    EndIf\n",
    "  EndFor\n",
    "EndFor\n",
    "//---------------------------------------------------------------------------------------------------------------------------------------\n",
    "//In this section we copy the rest of the information gathered from the file generated from the pre-processing module in meshes/txt_mesh/\n",
    "//---------------------------------------------------------------------------------------------------------------------------------------\n",
    "Physical Volume(1) = {7}; \n",
    "Physical Volume(2) = {2, 3, 4, 5, 6}; \n",
    "Mesh.CharacteristicLengthMin = 0.07; \n",
    "Mesh.CharacteristicLengthMax = 0.07; \n",
    "//------------------------------------------------------------------------------------------------------------------------------------------\n",
    "```\n",
    "4. Save the geo file, e.g. filename.geo"
   ]
  },
  {
   "cell_type": "markdown",
   "metadata": {},
   "source": [
    "5. The dolfin/FEniCS and gmsh software need to be installed to generate the 2-D and 3-D meshes. These commands can also be executed from the terminal.\n",
    "\n",
    "### For 3-D geometries"
   ]
  },
  {
   "cell_type": "code",
   "execution_count": null,
   "metadata": {},
   "outputs": [],
   "source": [
    "#Generates the 3D mesh with name empty_3D\n",
    "! gmsh -3 filename.geo -format msh2 #replace filename.geo with the actual name of the geo file"
   ]
  },
  {
   "cell_type": "code",
   "execution_count": null,
   "metadata": {},
   "outputs": [],
   "source": [
    "#Converts the mesh into two xml files to be imported in the numerical analysis\n",
    "! dolfin-convert -i gmsh filename.msh filename.xml #replace filename.geo with the actual name of the geo file"
   ]
  },
  {
   "cell_type": "markdown",
   "metadata": {},
   "source": [
    "Two xml files are generated in the gmsh directory, filename.xml and filename_physical_region.xml that contain information about the mesh and subdomains."
   ]
  },
  {
   "cell_type": "markdown",
   "metadata": {},
   "source": [
    "### For 2D geometires:"
   ]
  },
  {
   "cell_type": "code",
   "execution_count": null,
   "metadata": {},
   "outputs": [],
   "source": [
    "! gmsh -2 filename.geo -format msh2"
   ]
  },
  {
   "cell_type": "code",
   "execution_count": null,
   "metadata": {},
   "outputs": [],
   "source": [
    "! dolfin-convert -i gmsh filename.msh filename.xml"
   ]
  },
  {
   "cell_type": "markdown",
   "metadata": {},
   "source": [
    "Two xml files are generated in the gmsh directory, filename.xml and filename_physical_region.xml that contain information about the mesh and subdomains."
   ]
  },
  {
   "cell_type": "markdown",
   "metadata": {},
   "source": [
    "### For intersected spheres 3-D"
   ]
  },
  {
   "cell_type": "markdown",
   "metadata": {},
   "source": [
    "Two xml files are generated in the gmsh directory, filename.xml and filename_physical_region.xml that contain information about the mesh and subdomains."
   ]
  },
  {
   "cell_type": "markdown",
   "metadata": {},
   "source": [
    "If the option where spheres are intersecting is chosen in create_spherical_incl the tags of the geometries will change \n",
    "Here the manual solution used can be shown. It is not the best solution as it consists of manually looking at\n",
    "the gmsh interface before generating the 3D mesh. What is printed need to be transfered in the geo file.\n",
    "\n",
    "What we need to do to see the new tags is go into Gmsh graphical software open the geo file and go to tools/visibility/elementary entities and ask to put the elements in ascending order. Search Volume so only the volume elements are shown.\n",
    "\n",
    "There is possibly a way to do that automatically (https://gmsh.info/doc/texinfo/gmsh.html, A.16)"
   ]
  },
  {
   "cell_type": "markdown",
   "metadata": {},
   "source": [
    "![gmsh_intersected.png](gmsh_intersected.png)"
   ]
  },
  {
   "cell_type": "code",
   "execution_count": null,
   "metadata": {},
   "outputs": [],
   "source": [
    "v_whole = [10,14,17,19] #all the spheres before the matrix \n",
    "v_mat = 20 #matrix volume tag\n",
    "v_max = 72 # max tag available\n",
    "for i in range(v_mat+1,v_max+1):\n",
    "    v_whole.append(i)\n",
    "\n",
    "print(\"Physical Volume({}) = {{{}}};\".format(1,v_mat))\n",
    "print(\"Physical Volume({}) = {{{}}};\".format(2,str(v_whole)[1:-1]))"
   ]
  },
  {
   "cell_type": "markdown",
   "metadata": {},
   "source": [
    "The geo file needs to have this physical information now\n",
    "```C++\n",
    "//---------------------------------------------------------------------------------------------------------------------------------------\n",
    "//In this section we copy the rest of the information gathered from the file generated from the pre-processing module in meshes/txt_mesh/\n",
    "//---------------------------------------------------------------------------------------------------------------------------------------\n",
    "Physical Volume(1) = {20};\n",
    "Physical Volume(2) = {10, 14, 17, 19, 21, 22, 23, 24, 25, 26, 27, 28, 29, 30, 31, 32, 33, 34, 35, 36, 37, 38, 39, 40, 41, 42, 43, 44, 45, 46, 47, 48, 49, 50, 51, 52, 53, 54, 55, 56, 57, 58, 59, 60, 61, 62, 63, 64, 65, 66, 67, 68, 69, 70, 71, 72};\n",
    "//------------------------------------------------------------------------------------------------------------------------------------------\n",
    " \n",
    "```"
   ]
  }
 ],
 "metadata": {
  "kernelspec": {
   "display_name": "Python 3",
   "language": "python",
   "name": "python3"
  },
  "language_info": {
   "codemirror_mode": {
    "name": "ipython",
    "version": 3
   },
   "file_extension": ".py",
   "mimetype": "text/x-python",
   "name": "python",
   "nbconvert_exporter": "python",
   "pygments_lexer": "ipython3",
   "version": "3.7.6"
  }
 },
 "nbformat": 4,
 "nbformat_minor": 4
}
