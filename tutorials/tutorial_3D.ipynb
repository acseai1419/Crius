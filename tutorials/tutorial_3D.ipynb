{
 "cells": [
  {
   "cell_type": "markdown",
   "metadata": {},
   "source": [
    "### Analysis of 3-D materials\n",
    "\n",
    "This notebook assumes that the pre-processing has already been executed and the mesh is generated in xml\n",
    "The tutorial for that is in meshes/gmsh/gmsh_notebook\n",
    "\n",
    "By default .vtk files are not exported. If stress or displacement .vtk files are needed make sure to activate them from the epilysis function in the numerical analysis"
   ]
  },
  {
   "cell_type": "code",
   "execution_count": null,
   "metadata": {},
   "outputs": [],
   "source": [
    "import sys\n",
    "sys.path.insert(3,\"../pre-processing/3D\")\n",
    "sys.path.insert(1,\"../numerical_analysis\")\n",
    "sys.path.insert(2,\"../analytical\")\n",
    "sys.path.insert(5,\"../post-processing\")\n",
    "import numpy as np\n",
    "from dolfin import *\n",
    "import matplotlib as plt\n",
    "import scipy.linalg as sc\n",
    "import epilysis3D_functions as ep3f\n",
    "import epilysis_3D\n",
    "import store\n",
    "import post_3D"
   ]
  },
  {
   "cell_type": "markdown",
   "metadata": {},
   "source": [
    "#### Spherical Inclusions\n",
    "Since the tutorial directory is one level above the base:"
   ]
  },
  {
   "cell_type": "code",
   "execution_count": null,
   "metadata": {},
   "outputs": [],
   "source": [
    "meshes_location = \"../meshes\"\n",
    "paraview_location = \"../paraview\"\n",
    "results_location = \"../results\""
   ]
  },
  {
   "cell_type": "code",
   "execution_count": null,
   "metadata": {},
   "outputs": [],
   "source": [
    "name = \"bulit_in\"\n",
    "store.save_name(name,results_location) #save the name for the post-processing!"
   ]
  },
  {
   "cell_type": "markdown",
   "metadata": {},
   "source": [
    "The code is currently working with a cubic domain of length equals to one. It can be very easily modified to accept any length but no other length was needed."
   ]
  },
  {
   "cell_type": "code",
   "execution_count": null,
   "metadata": {},
   "outputs": [],
   "source": [
    "# mesh = Mesh(meshes_location+\"/gmsh/\" + name + \".xml\")\n",
    "# subdomains = MeshFunction(\"size_t\", mesh, meshes_location+\"/gmsh/\" + name + \"_physical_region.xml\")\n",
    "# store.save_mesh(name,mesh,subdomains,meshes_location,paraview_location)\n",
    "\n",
    "# a=1 #length of cube in x\n",
    "# b=1 #length of cube in y\n",
    "# c=1 #length of cube in z\n",
    "# vertices = np.array([[0, 0.,0.],#0\n",
    "#                      [a, 0.,0.],#1\n",
    "#                      [a,0.,c],#2\n",
    "#                      [0.,0.,c],#3   Vertices of the cube\n",
    "#                      [0.,b,c],#4    \n",
    "#                      [0.,b,0.],#5\n",
    "#                      [a,b,0.],#6\n",
    "#                      [a,b,c]])#7\n",
    "\n",
    "# vol = a*b*c #Volume of the cube"
   ]
  },
  {
   "cell_type": "code",
   "execution_count": null,
   "metadata": {},
   "outputs": [],
   "source": [
    "mesh = Mesh(meshes_location+\"/gmsh/\" + name + \".xml\")\n",
    "subdomains = MeshFunction(\"size_t\", mesh, meshes_location+\"/gmsh/\" + name + \"_physical_region.xml\")\n",
    "store.save_mesh(name,mesh,subdomains,meshes_location,paraview_location)\n",
    "\n",
    "xmin = mesh.coordinates()[:, 0].min()\n",
    "ymin = mesh.coordinates()[:, 1].min()\n",
    "zmin = mesh.coordinates()[:, 2].min()\n",
    "\n",
    "xmax = mesh.coordinates()[:, 0].max()\n",
    "ymax = mesh.coordinates()[:, 1].max()\n",
    "zmax = mesh.coordinates()[:, 2].max()\n",
    "a= xmax - xmin\n",
    "b= ymax - ymin\n",
    "c= zmax - zmin\n",
    "vertices = np.array([[xmin,ymin,zmin],#0\n",
    "                     [xmax, ymin,zmin],#1\n",
    "                     [xmax,ymin,zmax],#2\n",
    "                     [xmin,ymin,zmax],#3\n",
    "                     [xmin,ymax,zmax],#4\n",
    "                     [xmin,ymax,zmin],#5\n",
    "                     [xmax,ymax,zmin],#6\n",
    "                     [xmax,ymax,zmax]])#7\n",
    "vol = a*b*c"
   ]
  },
  {
   "cell_type": "code",
   "execution_count": null,
   "metadata": {},
   "outputs": [],
   "source": [
    "print (vertices)"
   ]
  },
  {
   "cell_type": "code",
   "execution_count": null,
   "metadata": {},
   "outputs": [],
   "source": [
    "E = np.array([100.,100.],dtype = np.longlong) #Young moduli of the two phases\n",
    "nu = np.array([0.2,0.2],dtype = np.longlong) #Poisson ratio's of the two phases"
   ]
  },
  {
   "cell_type": "code",
   "execution_count": null,
   "metadata": {},
   "outputs": [],
   "source": [
    "print(epilysis_3D.calculate_Volume_fraction(mesh,subdomains))"
   ]
  },
  {
   "cell_type": "code",
   "execution_count": null,
   "metadata": {},
   "outputs": [],
   "source": [
    "Exx,Eyy,Ezz,Gxy,Gzx,Gyz,nuxy,nuzx,nuyz = ep3f.ortho_from_iso(E,nu) #Convert iso to ortho format\n",
    "store.save_E_nu_iso(name,E,nu,results_location) #save E,nu for the post-processing!\n",
    "#-------------------------------------------------------------------------\n",
    "print(\"Setting the problem !!!\")\n",
    "dx,w,Eps,F,a,L = epilysis_3D.fe_problem(mesh,subdomains,vertices,Exx,Eyy,Ezz,Gxy,Gzx,Gyz,nuxy,nuzx,nuyz) #set up the problem\n",
    "print(\"Solving the equation !!!\")\n",
    "C_guess = epilysis_3D.calculate_moduli(name,mesh,vol,dx,w,Eps,F,a,L,Exx,Eyy,Ezz,Gxy,Gzx,Gyz,nuxy,nuzx,nuyz,meshes_location,paraview_location,results_location)#run the numerical analysis"
   ]
  },
  {
   "cell_type": "code",
   "execution_count": null,
   "metadata": {},
   "outputs": [],
   "source": [
    "print(np.round(C_guess,3))"
   ]
  },
  {
   "cell_type": "code",
   "execution_count": null,
   "metadata": {},
   "outputs": [],
   "source": [
    "K_Voigt,K_Reuss,K_Mori_Tanaka,K_num,G_Voigt,G_Reuss,G_Mori_Tanaka,G_num = post_3D.bounds(name,mesh,subdomains,E,nu,C_guess,results_location=results_location)"
   ]
  },
  {
   "cell_type": "code",
   "execution_count": null,
   "metadata": {},
   "outputs": [],
   "source": [
    "print (\"K from numerical analysis = \", K_num)\n",
    "print (\"K from M_T = \", K_Mori_Tanaka)\n",
    "print(\"error = \", (abs(K_num - K_Mori_Tanaka))/K_Mori_Tanaka)"
   ]
  },
  {
   "cell_type": "markdown",
   "metadata": {},
   "source": [
    "#### CT Scan (4 phase materieal) - randomly distributed phases"
   ]
  },
  {
   "cell_type": "code",
   "execution_count": null,
   "metadata": {},
   "outputs": [],
   "source": [
    "name = \"test_CT_scan\"\n",
    "store.save_name(name,results_location) #save the name for the post-processing!"
   ]
  },
  {
   "cell_type": "code",
   "execution_count": null,
   "metadata": {},
   "outputs": [],
   "source": [
    "mesh = Mesh(meshes_location+\"/gmsh/\" + name + \".xml\")\n",
    "subdomains = MeshFunction(\"size_t\", mesh, meshes_location+\"/gmsh/\" + name + \"_physical_region.xml\")\n",
    "store.save_mesh(name,mesh,subdomains,meshes_location,paraview_location)\n",
    "\n",
    "a=1 #length of cube in x\n",
    "b=1 #length of cube in y\n",
    "c=1 #length of cube in z\n",
    "vertices = np.array([[0, 0.,0.],#0\n",
    "                     [a, 0.,0.],#1\n",
    "                     [a,0.,c],#2\n",
    "                     [0.,0.,c],#3   Vertices of the cube\n",
    "                     [0.,b,c],#4    \n",
    "                     [0.,b,0.],#5\n",
    "                     [a,b,0.],#6\n",
    "                     [a,b,c]])#7\n",
    "\n",
    "vol = a*b*c #Volume of the cube"
   ]
  },
  {
   "cell_type": "code",
   "execution_count": null,
   "metadata": {},
   "outputs": [],
   "source": [
    "E = np.array([1000.,50.,500,10],dtype = np.longlong) #Young moduli of the two phases - 4 phases\n",
    "nu = np.array([0.2,0.35,0.15,0.3],dtype = np.longlong) #Poisson ratio's of the two phases - 4 phases"
   ]
  },
  {
   "cell_type": "code",
   "execution_count": null,
   "metadata": {},
   "outputs": [],
   "source": [
    "Exx,Eyy,Ezz,Gxy,Gzx,Gyz,nuxy,nuzx,nuyz = ep3f.ortho_from_iso(E,nu) #Convert iso to ortho format\n",
    "store.save_E_nu_iso(name,E,nu,results_location) #save E,nu for the post-processing!\n",
    "#----------------------------------------------------------------------------------------------------------------\n",
    "dx,w,Eps,F,a,L = epilysis_3D.fe_problem(mesh,subdomains,vertices,Exx,Eyy,Ezz,Gxy,Gzx,Gyz,nuxy,nuzx,nuyz) #set up the problem\n",
    "C_guess = epilysis_3D.calculate_moduli(name,mesh,vol,dx,w,Eps,F,a,L,Exx,Eyy,Ezz,Gxy,Gzx,Gyz,nuxy,nuzx,nuyz,meshes_location,paraview_location,results_location)#run the numerical analysis"
   ]
  },
  {
   "cell_type": "code",
   "execution_count": null,
   "metadata": {},
   "outputs": [],
   "source": [
    "print(np.round(C_guess,3))"
   ]
  },
  {
   "cell_type": "code",
   "execution_count": null,
   "metadata": {},
   "outputs": [],
   "source": []
  }
 ],
 "metadata": {
  "kernelspec": {
   "display_name": "Python 3",
   "language": "python",
   "name": "python3"
  },
  "language_info": {
   "codemirror_mode": {
    "name": "ipython",
    "version": 3
   },
   "file_extension": ".py",
   "mimetype": "text/x-python",
   "name": "python",
   "nbconvert_exporter": "python",
   "pygments_lexer": "ipython3",
   "version": "3.8.3"
  }
 },
 "nbformat": 4,
 "nbformat_minor": 4
}
