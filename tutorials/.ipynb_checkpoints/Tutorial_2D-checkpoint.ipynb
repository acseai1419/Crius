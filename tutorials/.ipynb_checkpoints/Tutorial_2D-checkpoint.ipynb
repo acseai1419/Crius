{
 "cells": [
  {
   "cell_type": "markdown",
   "metadata": {},
   "source": [
    "### Analysis of 2-D materials\n",
    "\n",
    "This notebook uses both mshr and gmsh with two different examples"
   ]
  },
  {
   "cell_type": "code",
   "execution_count": 1,
   "metadata": {},
   "outputs": [],
   "source": [
    "import sys\n",
    "sys.path.insert(1,\"../numerical_analysis\")\n",
    "sys.path.insert(2,\"../analytical\")\n",
    "sys.path.insert(3,\"../pre-processing/2D\")\n",
    "sys.path.insert(4,\"../post-processing\")\n",
    "import numpy as np\n",
    "from dolfin import *\n",
    "import matplotlib.pyplot as plt\n",
    "import scipy.linalg as sc\n",
    "from datetime import datetime\n",
    "import create_circular_incl as circ_incl\n",
    "import create_layers\n",
    "import create_mesh as gen_mesh\n",
    "import epilysis_functions as epf\n",
    "import epilysis\n",
    "import i_o\n",
    "import post"
   ]
  },
  {
   "cell_type": "markdown",
   "metadata": {},
   "source": [
    "#### Using Mshr\n",
    "Since the tutorial directory is one level above the base:"
   ]
  },
  {
   "cell_type": "code",
   "execution_count": 2,
   "metadata": {},
   "outputs": [],
   "source": [
    "meshes_location = \"../meshes\"\n",
    "paraview_location = \"../paraview\"\n",
    "results_location = \"../results\""
   ]
  },
  {
   "cell_type": "code",
   "execution_count": 3,
   "metadata": {},
   "outputs": [],
   "source": [
    "name = \"layers\"\n",
    "resolution = 100\n",
    "x = [0.1,0.3,0.5,0.7,0.9]\n",
    "inclusions = create_layers.create_dataset(meshes_location = meshes_location)"
   ]
  },
  {
   "cell_type": "code",
   "execution_count": 4,
   "metadata": {},
   "outputs": [],
   "source": [
    "mesh,subdomains = gen_mesh.create_mesh_2D(name,resolution,inclusions,meshes_location = meshes_location)\n",
    "i_o.save_mesh(name,mesh,subdomains,meshes_location,paraview_location)\n",
    "\n",
    "a=1\n",
    "b=1\n",
    "vertices = np.array([[0, 0.],\n",
    "                     [a, 0.],\n",
    "                     [a, b],\n",
    "                     [0, b]])\n",
    "area = a*b\n",
    "E = np.array([100,50],dtype = np.longlong)\n",
    "nu = np.array([0.2,0.3],dtype = np.longlong)\n",
    "\n",
    "Exx,Eyy,nuxy,Gxy = epf.ortho_from_iso(E,nu) #from isotropic to orthotropic format"
   ]
  },
  {
   "cell_type": "code",
   "execution_count": 5,
   "metadata": {},
   "outputs": [
    {
     "data": {
      "text/plain": [
       "<matplotlib.collections.PolyCollection at 0x7f594c1fe0a0>"
      ]
     },
     "execution_count": 5,
     "metadata": {},
     "output_type": "execute_result"
    },
    {
     "data": {
      "image/png": "[encoded data removed]",
      "text/plain": [
       "<Figure size 432x288 with 1 Axes>"
      ]
     },
     "metadata": {
      "needs_background": "light"
     },
     "output_type": "display_data"
    }
   ],
   "source": [
    "plot(subdomains)"
   ]
  },
  {
   "cell_type": "code",
   "execution_count": 6,
   "metadata": {},
   "outputs": [],
   "source": [
    "dx,w,Eps,F,a,L = epilysis.fe_problem(mesh,subdomains,vertices,area,Exx,Eyy,nuxy,Gxy)\n",
    "C_guess = epilysis.calculate_moduli(name,mesh,area,dx,w,Eps,F,a,L,Exx,Eyy,nuxy,Gxy,meshes_location=meshes_location,results_location=results_location,paraview_location=paraview_location)"
   ]
  },
  {
   "cell_type": "code",
   "execution_count": 7,
   "metadata": {},
   "outputs": [
    {
     "name": "stdout",
     "output_type": "stream",
     "text": [
      "Exx =  66.6666666666661\n",
      "Eyy =  74.99999999999937\n",
      "Gxy =  37.49999999999969\n",
      "Gyx =  33.33333333333305\n",
      "C \n",
      " [[ 6.66666667e+01  1.12543652e-08  1.67843898e-07]\n",
      " [ 1.76715748e-08  7.46912412e+01 -1.34932366e-03]\n",
      " [-8.53051933e-07 -1.34942256e-03  3.32801084e+01]]\n",
      "Calculated Exx from C.inverse :  66.6666666666888\n",
      "Divergence Exx =  3.4042102470266685e-13\n",
      "Calculated Eyy from C.inverse:  74.69124113997948\n",
      "Divergence Eyy =  -0.004116784800265271\n",
      "Calculated G from C.inverse:  33.280108424395486\n",
      "Divergence G =  -0.0015967472681269748\n"
     ]
    }
   ],
   "source": [
    "if name == \"layers\":\n",
    "    post.layers_comparison(name,C_guess,E,nu,mesh,subdomains,results_location=results_location)\n",
    "else:\n",
    "    post.print_moduli(name,C_guess,results_location=results_location)"
   ]
  },
  {
   "cell_type": "markdown",
   "metadata": {},
   "source": [
    "#### Using gmsh \n",
    "\n",
    "This section assumes that the pre-processing has already been executed and the mesh is generated in xml The tutorial for that is in meshes/gmsh/gmsh_notebook"
   ]
  },
  {
   "cell_type": "code",
   "execution_count": 8,
   "metadata": {},
   "outputs": [
    {
     "name": "stdout",
     "output_type": "stream",
     "text": [
      "C \n",
      " [[75.13920011  1.29656475  0.09478956]\n",
      " [ 1.29656573 75.86989215 -0.3856341 ]\n",
      " [ 0.09478762 -0.3856335  37.40199362]]\n",
      "Calculated Exx from C.inverse :  75.11676788578836\n",
      "Calculated Eyy from C.inverse:  75.84350935810893\n",
      "Calculated G from C.inverse:  37.399896689877195\n"
     ]
    },
    {
     "data": {
      "image/png": "[encoded data removed]",
      "text/plain": [
       "<Figure size 432x288 with 1 Axes>"
      ]
     },
     "metadata": {
      "needs_background": "light"
     },
     "output_type": "display_data"
    }
   ],
   "source": [
    "#case -4 Gmsh (we use this when we want to solve domain with crossing boundaries)\n",
    "name = \"periodic_circular_inclusions\"\n",
    "mesh = Mesh(meshes_location+\"/gmsh/\" + name + \".xml\")\n",
    "subdomains = MeshFunction(\"size_t\", mesh, meshes_location+\"/gmsh/\" + name + \"_physical_region.xml\")\n",
    "plot(subdomains)\n",
    "a=1\n",
    "b=1\n",
    "vertices = np.array([[0, 0.],\n",
    "                    [a, 0.],\n",
    "                    [a, b],\n",
    "                    [0, b]])\n",
    "area = a*b\n",
    "E = np.array([100,50],dtype = np.longlong)\n",
    "nu = np.array([0.2,0.3],dtype = np.longlong)\n",
    "\n",
    "Exx,Eyy,nuxy,Gxy = epf.ortho_from_iso(E,nu)\n",
    "dx,w,Eps,F,a,L = epilysis.fe_problem(mesh,subdomains,vertices,area,Exx,Eyy,nuxy,Gxy)\n",
    "C_guess = epilysis.calculate_moduli(name,mesh,area,dx,w,Eps,F,a,L,Exx,Eyy,nuxy,Gxy,meshes_location=meshes_location,results_location=results_location,paraview_location=paraview_location)\n",
    "#--------------------------------------------------------------------------\n",
    "#Post-processing\n",
    "#--------------------------------------------------------------------------\n",
    "if name == \"layers\":\n",
    "    post.layers_comparison(name,C_guess,E,nu,mesh,subdomains,results_location=results_location)\n",
    "else:\n",
    "    post.print_moduli(name,C_guess,results_location=results_location)"
   ]
  },
  {
   "cell_type": "code",
   "execution_count": null,
   "metadata": {},
   "outputs": [],
   "source": []
  }
 ],
 "metadata": {
  "kernelspec": {
   "display_name": "Python 3",
   "language": "python",
   "name": "python3"
  },
  "language_info": {
   "codemirror_mode": {
    "name": "ipython",
    "version": 3
   },
   "file_extension": ".py",
   "mimetype": "text/x-python",
   "name": "python",
   "nbconvert_exporter": "python",
   "pygments_lexer": "ipython3",
   "version": "3.8.3"
  }
 },
 "nbformat": 4,
 "nbformat_minor": 4
}
