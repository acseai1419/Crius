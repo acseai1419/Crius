{
 "cells": [
  {
   "cell_type": "markdown",
   "metadata": {},
   "source": [
    "### Analysis of 3-D materials\n",
    "\n",
    "This notebook assumes that the pre-processing has already been executed and the mesh is generated in xml\n",
    "The tutorial for that is in meshes/gmsh/gmsh_notebook\n",
    "\n",
    "By default .vtk files are not exported. If stress or displacement .vtk files are needed make sure to activate them from the epilysis function in the numerical analysis"
   ]
  },
  {
   "cell_type": "code",
   "execution_count": 1,
   "metadata": {},
   "outputs": [],
   "source": [
    "import sys\n",
    "sys.path.insert(3,\"../pre-processing/3D\")\n",
    "sys.path.insert(1,\"../numerical_analysis\")\n",
    "sys.path.insert(2,\"../analytical\")\n",
    "sys.path.insert(5,\"../post-processing\")\n",
    "import numpy as np\n",
    "from dolfin import *\n",
    "import matplotlib as plt\n",
    "import scipy.linalg as sc\n",
    "import epilysis3D_functions as ep3f\n",
    "import epilysis_3D\n",
    "import store\n",
    "import post_3D"
   ]
  },
  {
   "cell_type": "markdown",
   "metadata": {},
   "source": [
    "#### Spherical Inclusions\n",
    "Since the tutorial directory is one level above the base:"
   ]
  },
  {
   "cell_type": "code",
   "execution_count": 2,
   "metadata": {},
   "outputs": [],
   "source": [
    "meshes_location = \"../meshes\"\n",
    "paraview_location = \"../paraview\"\n",
    "results_location = \"../results\""
   ]
  },
  {
   "cell_type": "code",
   "execution_count": 3,
   "metadata": {},
   "outputs": [],
   "source": [
    "name = \"Spherical_Inclusions_20\"\n",
    "store.save_name(name,results_location) #save the name for the post-processing!"
   ]
  },
  {
   "cell_type": "markdown",
   "metadata": {},
   "source": [
    "The code is currently working with a cubic domain of length equals to one. It can be very easily modified to accept any length but no other length was needed."
   ]
  },
  {
   "cell_type": "code",
   "execution_count": 4,
   "metadata": {},
   "outputs": [],
   "source": [
    "mesh = Mesh(meshes_location+\"/gmsh/\" + name + \".xml\")\n",
    "subdomains = MeshFunction(\"size_t\", mesh, meshes_location+\"/gmsh/\" + name + \"_physical_region.xml\")\n",
    "store.save_mesh(name,mesh,subdomains,meshes_location,paraview_location)\n",
    "\n",
    "a=1 #length of cube in x\n",
    "b=1 #length of cube in y\n",
    "c=1 #length of cube in z\n",
    "vertices = np.array([[0, 0.,0.],#0\n",
    "                     [a, 0.,0.],#1\n",
    "                     [a,0.,c],#2\n",
    "                     [0.,0.,c],#3   Vertices of the cube\n",
    "                     [0.,b,c],#4    \n",
    "                     [0.,b,0.],#5\n",
    "                     [a,b,0.],#6\n",
    "                     [a,b,c]])#7\n",
    "\n",
    "vol = a*b*c #Volume of the cube"
   ]
  },
  {
   "cell_type": "code",
   "execution_count": 5,
   "metadata": {},
   "outputs": [],
   "source": [
    "E = np.array([1000.,50.],dtype = np.longlong) #Young moduli of the two phases\n",
    "nu = np.array([0.2,0.35],dtype = np.longlong) #Poisson ratio's of the two phases"
   ]
  },
  {
   "cell_type": "code",
   "execution_count": 6,
   "metadata": {},
   "outputs": [
    {
     "name": "stdout",
     "output_type": "stream",
     "text": [
      "Solving linear problem ...\n",
      "Solving linear problem ...\n",
      "Solving linear problem ...\n",
      "Solving linear problem ...\n",
      "Solving linear problem ...\n",
      "Solving linear problem ...\n"
     ]
    }
   ],
   "source": [
    "Exx,Eyy,Ezz,Gxy,Gzx,Gyz,nuxy,nuzx,nuyz = ep3f.ortho_from_iso(E,nu) #Convert iso to ortho format\n",
    "store.save_E_nu_iso(name,E,nu,results_location) #save E,nu for the post-processing!\n",
    "#-------------------------------------------------------------------------\n",
    "dx,w,Eps,F,a,L = epilysis_3D.fe_problem(mesh,subdomains,vertices,Exx,Eyy,Ezz,Gxy,Gzx,Gyz,nuxy,nuzx,nuyz) #set up the problem\n",
    "C_guess = epilysis_3D.calculate_moduli(name,mesh,vol,dx,w,Eps,F,a,L,Exx,Eyy,Ezz,Gxy,Gzx,Gyz,nuxy,nuzx,nuyz,meshes_location,paraview_location,results_location)#run the numerical analysis"
   ]
  },
  {
   "cell_type": "code",
   "execution_count": 7,
   "metadata": {},
   "outputs": [
    {
     "name": "stdout",
     "output_type": "stream",
     "text": [
      "[[ 7.24858e+02  1.69840e+01  1.86970e+01  5.91000e-01  1.91000e+00\n",
      "   2.98000e-01]\n",
      " [ 1.69780e+01  7.29057e+02  1.71150e+01  1.04000e+00 -9.54000e-01\n",
      "   1.65500e+00]\n",
      " [ 1.87000e+01  1.71150e+01  7.21322e+02  1.07300e+00  1.90900e+00\n",
      "  -9.40000e-01]\n",
      " [ 5.98000e-01  1.03100e+00  1.08300e+00  3.48611e+02 -1.45000e-01\n",
      "   1.07000e+00]\n",
      " [ 1.90600e+00 -9.58000e-01  1.91700e+00 -1.45000e-01  3.48907e+02\n",
      "   2.75600e+00]\n",
      " [ 2.98000e-01  1.63600e+00 -9.38000e-01  1.07000e+00  2.75700e+00\n",
      "   3.51126e+02]]\n"
     ]
    }
   ],
   "source": [
    "print(np.round(C_guess,3))"
   ]
  },
  {
   "cell_type": "code",
   "execution_count": 8,
   "metadata": {},
   "outputs": [],
   "source": [
    "K_Voigt,K_Reuss,K_Mori_Tanaka,K_num,G_Voigt,G_Reuss,G_Mori_Tanaka,G_num = post_3D.bounds(name,mesh,subdomains,E,nu,C_guess,results_location=results_location)"
   ]
  },
  {
   "cell_type": "code",
   "execution_count": 9,
   "metadata": {},
   "outputs": [
    {
     "name": "stdout",
     "output_type": "stream",
     "text": [
      "K from numerical analysis =  253.07403004445518\n",
      "K from M_T =  253.5332302640077\n",
      "error =  0.0018112032851644038\n"
     ]
    }
   ],
   "source": [
    "print (\"K from numerical analysis = \", K_num)\n",
    "print (\"K from M_T = \", K_Mori_Tanaka)\n",
    "print(\"error = \", (abs(K_num - K_Mori_Tanaka))/K_Mori_Tanaka)"
   ]
  },
  {
   "cell_type": "markdown",
   "metadata": {},
   "source": [
    "#### CT Scan (4 phase materieal) - randomly distributed phases"
   ]
  },
  {
   "cell_type": "code",
   "execution_count": 10,
   "metadata": {},
   "outputs": [],
   "source": [
    "name = \"test_CT_scan\"\n",
    "store.save_name(name,results_location) #save the name for the post-processing!"
   ]
  },
  {
   "cell_type": "code",
   "execution_count": 11,
   "metadata": {},
   "outputs": [],
   "source": [
    "mesh = Mesh(meshes_location+\"/gmsh/\" + name + \".xml\")\n",
    "subdomains = MeshFunction(\"size_t\", mesh, meshes_location+\"/gmsh/\" + name + \"_physical_region.xml\")\n",
    "store.save_mesh(name,mesh,subdomains,meshes_location,paraview_location)\n",
    "\n",
    "a=1 #length of cube in x\n",
    "b=1 #length of cube in y\n",
    "c=1 #length of cube in z\n",
    "vertices = np.array([[0, 0.,0.],#0\n",
    "                     [a, 0.,0.],#1\n",
    "                     [a,0.,c],#2\n",
    "                     [0.,0.,c],#3   Vertices of the cube\n",
    "                     [0.,b,c],#4    \n",
    "                     [0.,b,0.],#5\n",
    "                     [a,b,0.],#6\n",
    "                     [a,b,c]])#7\n",
    "\n",
    "vol = a*b*c #Volume of the cube"
   ]
  },
  {
   "cell_type": "code",
   "execution_count": 12,
   "metadata": {},
   "outputs": [],
   "source": [
    "E = np.array([1000.,50.,500,10],dtype = np.longlong) #Young moduli of the two phases - 4 phases\n",
    "nu = np.array([0.2,0.35,0.15,0.3],dtype = np.longlong) #Poisson ratio's of the two phases - 4 phases"
   ]
  },
  {
   "cell_type": "code",
   "execution_count": 13,
   "metadata": {},
   "outputs": [
    {
     "name": "stdout",
     "output_type": "stream",
     "text": [
      "Solving linear problem ...\n",
      "Calling FFC just-in-time (JIT) compiler, this may take some time.\n",
      "Calling FFC just-in-time (JIT) compiler, this may take some time.\n",
      "Calling FFC just-in-time (JIT) compiler, this may take some time.\n",
      "Calling FFC just-in-time (JIT) compiler, this may take some time.\n",
      "Calling FFC just-in-time (JIT) compiler, this may take some time.\n",
      "Calling FFC just-in-time (JIT) compiler, this may take some time.\n",
      "Calling FFC just-in-time (JIT) compiler, this may take some time.\n",
      "Calling FFC just-in-time (JIT) compiler, this may take some time.\n",
      "Calling FFC just-in-time (JIT) compiler, this may take some time.\n",
      "Calling FFC just-in-time (JIT) compiler, this may take some time.\n",
      "Calling FFC just-in-time (JIT) compiler, this may take some time.\n",
      "Calling FFC just-in-time (JIT) compiler, this may take some time.\n",
      "Calling FFC just-in-time (JIT) compiler, this may take some time.\n",
      "Calling FFC just-in-time (JIT) compiler, this may take some time.\n",
      "Solving linear problem ...\n",
      "Solving linear problem ...\n",
      "Solving linear problem ...\n",
      "Solving linear problem ...\n",
      "Solving linear problem ...\n"
     ]
    }
   ],
   "source": [
    "Exx,Eyy,Ezz,Gxy,Gzx,Gyz,nuxy,nuzx,nuyz = ep3f.ortho_from_iso(E,nu) #Convert iso to ortho format\n",
    "store.save_E_nu_iso(name,E,nu,results_location) #save E,nu for the post-processing!\n",
    "#----------------------------------------------------------------------------------------------------------------\n",
    "dx,w,Eps,F,a,L = epilysis_3D.fe_problem(mesh,subdomains,vertices,Exx,Eyy,Ezz,Gxy,Gzx,Gyz,nuxy,nuzx,nuyz) #set up the problem\n",
    "C_guess = epilysis_3D.calculate_moduli(name,mesh,vol,dx,w,Eps,F,a,L,Exx,Eyy,Ezz,Gxy,Gzx,Gyz,nuxy,nuzx,nuyz,meshes_location,paraview_location,results_location)#run the numerical analysis"
   ]
  },
  {
   "cell_type": "code",
   "execution_count": 14,
   "metadata": {},
   "outputs": [
    {
     "name": "stdout",
     "output_type": "stream",
     "text": [
      "[[ 1.69565e+02  1.24030e+01  8.83300e+00 -5.96000e-01 -1.78000e-01\n",
      "   9.59500e+00]\n",
      " [ 1.24060e+01  1.77559e+02  6.96600e+00  5.35300e+00  2.22700e+00\n",
      "   9.63600e+00]\n",
      " [ 8.83300e+00  6.97200e+00  2.07320e+02  4.99600e+00 -2.90000e-02\n",
      "  -4.10000e-02]\n",
      " [-6.07000e-01  5.33700e+00  4.99800e+00  6.97880e+01  3.89400e+00\n",
      "   6.00000e-03]\n",
      " [-1.75000e-01  2.21200e+00 -3.10000e-02  3.89800e+00  7.03910e+01\n",
      "   3.02200e+00]\n",
      " [ 9.59300e+00  9.63200e+00 -3.40000e-02  6.00000e-03  3.02100e+00\n",
      "   5.67500e+01]]\n"
     ]
    }
   ],
   "source": [
    "print(np.round(C_guess,3))"
   ]
  },
  {
   "cell_type": "code",
   "execution_count": null,
   "metadata": {},
   "outputs": [],
   "source": []
  }
 ],
 "metadata": {
  "kernelspec": {
   "display_name": "Python 3",
   "language": "python",
   "name": "python3"
  },
  "language_info": {
   "codemirror_mode": {
    "name": "ipython",
    "version": 3
   },
   "file_extension": ".py",
   "mimetype": "text/x-python",
   "name": "python",
   "nbconvert_exporter": "python",
   "pygments_lexer": "ipython3",
   "version": "3.8.3"
  }
 },
 "nbformat": 4,
 "nbformat_minor": 4
}
